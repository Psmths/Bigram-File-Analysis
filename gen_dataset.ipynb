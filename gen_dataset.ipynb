{
 "cells": [
  {
   "cell_type": "code",
   "execution_count": null,
   "metadata": {},
   "outputs": [],
   "source": [
    "import numpy as np\n",
    "import os"
   ]
  },
  {
   "cell_type": "code",
   "execution_count": null,
   "metadata": {},
   "outputs": [],
   "source": [
    "def fast_bigram(filename):\n",
    "    p = np.zeros((256,256))\n",
    "    \n",
    "    file = open(filename,'rb')\n",
    "    data = file.read()\n",
    "    \n",
    "    print(\"Generate bigram for \" + filename)\n",
    "    \n",
    "    for i in range(len(data)-1):\n",
    "        wn = data[i+1]\n",
    "        wnm1 = data[i]\n",
    "        p[wn][wnm1] = p[wn][wnm1] + 1 #Increment count\n",
    "        \n",
    "    return p"
   ]
  },
  {
   "cell_type": "code",
   "execution_count": null,
   "metadata": {},
   "outputs": [],
   "source": [
    "categories = ['gif','pe64','mp3','flac','dll','html','pdf','png','xml']\n",
    "\n",
    "data_dir = '.'\n",
    "\n",
    "dataset = []\n",
    "\n",
    "#Generate the dataset.\n",
    "for category in categories:\n",
    "    path = os.path.join(data_dir, category)\n",
    "    class_label = categories.index(category) #Generate class label\n",
    "\n",
    "    for file in os.listdir(path):\n",
    "        try:\n",
    "            file_bigram = fast_bigram(os.path.join(path, file))\n",
    "            dataset.append([file_bigram, class_label])\n",
    "        except Exception as e:\n",
    "            pass\n",
    "\n",
    "np.save(\"dataset\",dataset)"
   ]
  },
  {
   "cell_type": "code",
   "execution_count": null,
   "metadata": {},
   "outputs": [],
   "source": []
  }
 ],
 "metadata": {
  "kernelspec": {
   "display_name": "Python 3",
   "language": "python",
   "name": "python3"
  },
  "language_info": {
   "codemirror_mode": {
    "name": "ipython",
    "version": 3
   },
   "file_extension": ".py",
   "mimetype": "text/x-python",
   "name": "python",
   "nbconvert_exporter": "python",
   "pygments_lexer": "ipython3",
   "version": "3.8.2"
  }
 },
 "nbformat": 4,
 "nbformat_minor": 4
}
